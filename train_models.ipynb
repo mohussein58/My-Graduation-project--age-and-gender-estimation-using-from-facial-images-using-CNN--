{
 "cells": [
  {
   "attachments": {},
   "cell_type": "markdown",
   "metadata": {},
   "source": [
    "We use a notebook rather than a .py file so we can keep datasets in memory between runs. This is useful for testing different network parameters, architectures, etc."
   ]
  },
  {
   "attachments": {},
   "cell_type": "markdown",
   "metadata": {},
   "source": [
    "## 1. Prepare datasets:"
   ]
  },
  {
   "cell_type": "code",
   "execution_count": null,
   "metadata": {},
   "outputs": [],
   "source": [
    "from torch.utils.data import random_split, ConcatDataset\n",
    "import sys\n",
    "\n",
    "# get own modules\n",
    "sys.path.insert(0, './age-gender-cnn')\n",
    "from src.train import train_model\n",
    "from src.face_dataset import *\n",
    "from src.label_funcs import *\n",
    "import src.preprocessor as preprocessor\n",
    "from src.augmentations import get_augs\n",
    "from src.ds_transforms import *\n",
    "from src.networks import *\n",
    "import src.tests as tests\n",
    "\n",
    "\n",
    "# Define dataset parameters\n",
    "ds_size = 1000 # takes ~2m to process 1000 files\n",
    "processor = preprocessor.process(crop='mid', size=168)\n",
    "transform = alexnet_transform(168)\n",
    "print_errors = False # True for debugging\n",
    "\n",
    "# imdb_age_ds = MemoryDataset(\n",
    "#     'C:\\\\Users\\\\jckpn\\\\Documents\\\\YEAR 3 PROJECT\\\\implementation\\\\source\\\\other\\\\imdb_crop',\n",
    "#     label_func=age_label_all, transform=transform, processor=processor,\n",
    "#     ds_size=ds_size, print_errors=print_errors)\n",
    "\n",
    "imdb_gender_ds = MemoryDataset(\n",
    "    'C:\\\\Users\\\\jckpn\\\\Documents\\\\YEAR 3 PROJECT\\\\implementation\\\\source\\\\other\\\\imdb_crop',\n",
    "    label_func=binary_gender_label, transform=transform, processor=processor,\n",
    "    ds_size=ds_size, print_errors=print_errors)\n",
    "\n",
    "# Configure as needed here\n",
    "\n",
    "train_val_set = imdb_gender_ds\n",
    "\n",
    "# Split dataset into training and validation sets\n",
    "val_split_ratio = 0.2\n",
    "val_size = int(val_split_ratio * len(train_val_set))\n",
    "train_size = len(train_val_set) - val_size\n",
    "train_set, val_set = random_split(train_val_set, [train_size, val_size])\n",
    "print(f'Split dataset into {len(train_set)} training and {len(val_set)} validation examples')\n",
    "\n",
    "test_set = val_set # intra-dataset tests for now"
   ]
  },
  {
   "attachments": {},
   "cell_type": "markdown",
   "metadata": {},
   "source": [
    "## 2. Train models:"
   ]
  },
  {
   "cell_type": "code",
   "execution_count": null,
   "metadata": {},
   "outputs": [],
   "source": [
    "from torch.nn import CrossEntropyLoss, MSELoss\n",
    "from torchvision import transforms\n",
    "\n",
    "\n",
    "model = train_model(\n",
    "    model=AlexNet(num_classes=2, pretrained=False), \n",
    "\n",
    "    train_set=train_set,\n",
    "    val_set=val_set,\n",
    "    image_resize=224,\n",
    "    aug_transform=get_augs(),\n",
    "    optim_fn=torch.optim.Adam,\n",
    "    learning_rate=0.0001,\n",
    "\n",
    "    patience=5,\n",
    "    max_epochs=30,\n",
    "    \n",
    "    model_save_dir='./models')\n",
    "\n",
    "tests.class_accuracy(model, test_set, image_resize=224)\n",
    "tests.confusion_matrix(model, test_set, image_resize=224)"
   ]
  }
 ],
 "metadata": {
  "kernelspec": {
   "display_name": "fyp",
   "language": "python",
   "name": "python3"
  },
  "language_info": {
   "codemirror_mode": {
    "name": "ipython",
    "version": 3
   },
   "file_extension": ".py",
   "mimetype": "text/x-python",
   "name": "python",
   "nbconvert_exporter": "python",
   "pygments_lexer": "ipython3",
   "version": "3.10.10"
  },
  "orig_nbformat": 4
 },
 "nbformat": 4,
 "nbformat_minor": 2
}
